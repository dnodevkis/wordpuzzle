{
  "nbformat": 4,
  "nbformat_minor": 0,
  "metadata": {
    "colab": {
      "provenance": [],
      "authorship_tag": "ABX9TyPi3fcmZA9I4eUSbfm4+QWZ",
      "include_colab_link": true
    },
    "kernelspec": {
      "name": "python3",
      "display_name": "Python 3"
    },
    "language_info": {
      "name": "python"
    }
  },
  "cells": [
    {
      "cell_type": "markdown",
      "metadata": {
        "id": "view-in-github",
        "colab_type": "text"
      },
      "source": [
        "<a href=\"https://colab.research.google.com/github/dnodevkis/wordpuzzle/blob/main/wordpuzzle.ipynb\" target=\"_parent\"><img src=\"https://colab.research.google.com/assets/colab-badge.svg\" alt=\"Open In Colab\"/></a>"
      ]
    },
    {
      "cell_type": "markdown",
      "source": [
        "В поле multiline_text необходимо вставить необходимое для шифра значение. В результате будут зашифрованы слова + отдельный словарь с их окончаниями."
      ],
      "metadata": {
        "id": "2CeJkYZoOP_Q"
      }
    },
    {
      "cell_type": "code",
      "execution_count": 2,
      "metadata": {
        "colab": {
          "base_uri": "https://localhost:8080/"
        },
        "id": "-DmQgiMl5x2t",
        "outputId": "d134675c-7269-40d1-f90a-96e4da6eac4c"
      },
      "outputs": [
        {
          "output_type": "stream",
          "name": "stdout",
          "text": [
            "вввсыжде\n",
            "глуедами\n",
            "бвчтясое\n",
            "багвдоап\n",
            "гзэгнофе\n",
            "бдрирсак\n",
            "гтоелокь\n",
            "днухзодж\n",
            "{3: ',', 5: '?!', 8: '..'}\n"
          ]
        }
      ],
      "source": [
        "import random\n",
        "import re\n",
        "\n",
        "multiline_text = '''Все думали что в зоне риска только художники, но нейросети пришли за музыкантами.\n",
        "Местами вообще не отличить это реально кавер или генерация. Особенно круто что у всяких дрейков и кендриков ламаров сохраняется акцент.'''\n",
        "\n",
        "def word_endings(text):\n",
        "    text = text.replace(\"\\n\", \" \").lower()\n",
        "    words = re.findall(r'\\b[а-яёa-z]+[,.:;!?]*', text)\n",
        "\n",
        "    word_endings_d = {}\n",
        "    for i, word in enumerate(words, start=1):\n",
        "        # Find the trailing symbols\n",
        "        trailing_symbols = re.findall(r'[,.:;!?]', word)\n",
        "\n",
        "        # Remove the trailing symbols from the word\n",
        "        word = re.sub(r'[,.:;!?]', '', word)\n",
        "\n",
        "        # Get the part of the word that is longer than 6 characters\n",
        "        long_part = word[6:]\n",
        "\n",
        "        # Add the trailing symbols to the long_part\n",
        "        long_part += \"\".join(trailing_symbols)\n",
        "\n",
        "        # Store the long_part in the dictionary\n",
        "        word_endings_d[i] = long_part\n",
        "\n",
        "    return word_endings_d\n",
        "\n",
        "def transform_text(text):\n",
        "    # Remove newlines and convert the text to lowercase\n",
        "    text = text.replace(\"\\n\", \" \").lower()\n",
        "\n",
        "    # Use a regular expression to find words consisting of English or Russian alphabet characters\n",
        "    words = re.findall(r'\\b[а-яёa-z]+\\b', text)\n",
        "\n",
        "    return words\n",
        "\n",
        "# Example multiline text\n",
        "\n",
        "word_endings_d = word_endings(multiline_text)\n",
        "lines = transform_text(multiline_text)\n",
        "vowels = [ 'а', 'о', 'э', 'е', 'и', 'ы', 'у', 'ё', 'ю', 'я', 'ь', 'ъ']\n",
        "consonants = ['б', 'в', 'г', 'д', 'ж', 'з', 'й', 'к', 'л', 'м', 'н', 'п', 'р', 'с', 'т', 'ф', 'х', 'ц', 'ч', 'ш', 'щ']\n",
        "alphabet = ['а', 'б', 'в', 'г', 'д', 'е', 'ё', 'ж', 'з', 'и', 'й', 'к', 'л', 'м', 'н', 'о', 'п', 'р', 'с', 'т', 'у', 'ф', 'х', 'ц', 'ч', 'ш', 'щ', 'ъ', 'ы', 'ь', 'э', 'ю', 'я']\n",
        "word_ends_dict = {}\n",
        "\n",
        "\n",
        "for i in range(len(lines)):    \n",
        "    word_lenght = len(lines[i])\n",
        "    word = lines[i]\n",
        "    word_vowels = []\n",
        "    word_vowels_pos = []\n",
        "    word_consonants = []\n",
        "    word_consonants_pos = []\n",
        "    even_word_flag = i % 2\n",
        "\n",
        "    # Превращаем слово в шестибуквенное\n",
        "    if len(word) > 6:\n",
        "        word_6 = word[:6]\n",
        "        # Нужно собрать окончания в отдельный словарь TBD\n",
        "        word_ending = word[6:]\n",
        "        word_ends_dict[i+1] = word_ending\n",
        "    elif len(word) < 6:\n",
        "        new_letters = 6 - word_lenght\n",
        "        word_6 = []\n",
        "        for i in range(word_lenght):\n",
        "            word_6.append(word[i])\n",
        "        for i in range(new_letters):\n",
        "            word_6.append(alphabet[random.randrange(0, 33)])\n",
        "    elif len(word) == 6:\n",
        "        word_6 = word\n",
        "\n",
        "\n",
        "    for i in range(len(word_6)): \n",
        "        # Составляем массив гласных\n",
        "        if word_6[i] in vowels:\n",
        "            word_vowels.append(word_6[i])\n",
        "            word_vowels_pos.append(i)\n",
        "\n",
        "        # Составляем массив согласных\n",
        "        elif word_6[i] in consonants:\n",
        "            word_consonants.append(word_6[i])\n",
        "            word_consonants_pos.append(i)\n",
        "    word_vowels_new = word_vowels[-1:] + word_vowels[:-1]\n",
        "    word_consonants_new = word_consonants[-1:] + word_consonants[:-1]\n",
        "\n",
        "    # Собираем слово обратно (смещение гласных) для нечетных слов\n",
        "    if even_word_flag == 0:\n",
        "        new_word_array = []\n",
        "        for i in range(len(word_6)):\n",
        "            if i in word_vowels_pos:\n",
        "                new_word_array.append(word_vowels_new[0])\n",
        "                word_vowels_new.remove(word_vowels_new[0])\n",
        "\n",
        "            if i in word_consonants_pos:\n",
        "                new_word_array.append(word_consonants[0])\n",
        "                word_consonants.remove(word_consonants[0])\n",
        "\n",
        "    # Собираем слово обратно (смещение согласных) для четных слов\n",
        "    if even_word_flag == 1:\n",
        "        new_word_array = []\n",
        "        for i in range(len(word_6)):\n",
        "            if i in word_vowels_pos:\n",
        "                new_word_array.append(word_vowels[0])\n",
        "                word_vowels.remove(word_vowels[0])\n",
        "\n",
        "            if i in word_consonants_pos:\n",
        "                new_word_array.append(word_consonants_new[0])\n",
        "                word_consonants_new.remove(word_consonants_new[0])\n",
        "\n",
        "    # Считаем количество букв в слове и добавляем буквы\n",
        "    random_letter_pos = (random.randrange(0, 7))\n",
        "    new_word_array.insert(random_letter_pos, alphabet[word_lenght-1])\n",
        "    new_word_array.insert(0, alphabet[random_letter_pos+1])\n",
        "    new_word = ''.join(new_word_array)\n",
        "    print(new_word)\n",
        "print(word_endings_d)\n",
        "\n",
        "\n"
      ]
    },
    {
      "cell_type": "code",
      "source": [],
      "metadata": {
        "id": "sMXesigl53Db"
      },
      "execution_count": null,
      "outputs": []
    },
    {
      "cell_type": "markdown",
      "source": [],
      "metadata": {
        "id": "s7HbAzAP5zfT"
      }
    }
  ]
}